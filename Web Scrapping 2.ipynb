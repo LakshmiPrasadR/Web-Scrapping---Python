{
 "cells": [
  {
   "cell_type": "code",
   "execution_count": 1,
   "id": "771b7a98",
   "metadata": {},
   "outputs": [],
   "source": [
    "import requests"
   ]
  },
  {
   "cell_type": "code",
   "execution_count": 4,
   "id": "28e91b6f",
   "metadata": {},
   "outputs": [],
   "source": [
    "from bs4 import BeautifulSoup"
   ]
  },
  {
   "cell_type": "code",
   "execution_count": 36,
   "id": "3db9dff5",
   "metadata": {},
   "outputs": [],
   "source": [
    "import pandas as pd"
   ]
  },
  {
   "cell_type": "code",
   "execution_count": 45,
   "id": "b3e228f8",
   "metadata": {},
   "outputs": [],
   "source": [
    "current_page = 1\n"
   ]
  },
  {
   "cell_type": "code",
   "execution_count": 48,
   "id": "560f9862",
   "metadata": {},
   "outputs": [
    {
     "name": "stdout",
     "output_type": "stream",
     "text": [
      "currently scraping page: 3\n",
      "currently scraping page: 4\n",
      "currently scraping page: 5\n",
      "currently scraping page: 6\n",
      "currently scraping page: 7\n",
      "currently scraping page: 8\n",
      "currently scraping page: 9\n",
      "currently scraping page: 10\n",
      "currently scraping page: 11\n",
      "currently scraping page: 12\n",
      "currently scraping page: 13\n",
      "currently scraping page: 14\n",
      "currently scraping page: 15\n",
      "currently scraping page: 16\n",
      "currently scraping page: 17\n",
      "currently scraping page: 18\n",
      "currently scraping page: 19\n",
      "currently scraping page: 20\n",
      "currently scraping page: 21\n",
      "currently scraping page: 22\n",
      "currently scraping page: 23\n",
      "currently scraping page: 24\n",
      "currently scraping page: 25\n",
      "currently scraping page: 26\n",
      "currently scraping page: 27\n",
      "currently scraping page: 28\n",
      "currently scraping page: 29\n",
      "currently scraping page: 30\n",
      "currently scraping page: 31\n",
      "currently scraping page: 32\n",
      "currently scraping page: 33\n",
      "currently scraping page: 34\n",
      "currently scraping page: 35\n",
      "currently scraping page: 36\n",
      "currently scraping page: 37\n",
      "currently scraping page: 38\n",
      "currently scraping page: 39\n",
      "currently scraping page: 40\n",
      "currently scraping page: 41\n",
      "currently scraping page: 42\n",
      "currently scraping page: 43\n",
      "currently scraping page: 44\n",
      "currently scraping page: 45\n",
      "currently scraping page: 46\n",
      "currently scraping page: 47\n",
      "currently scraping page: 48\n",
      "currently scraping page: 49\n",
      "currently scraping page: 50\n",
      "currently scraping page: 51\n"
     ]
    }
   ],
   "source": [
    "data = []\n",
    "\n",
    "proceed = True\n",
    "while (proceed):\n",
    "    print(\"currently scraping page: \"+str(current_page))\n",
    "    url = \"https://books.toscrape.com/catalogue/page-\"+str(current_page)+\".html\"\n",
    "    \n",
    "    page = requests.get(url)\n",
    "    \n",
    "    soup = BeautifulSoup(page.text,\"html.parser\")\n",
    "    \n",
    "    if soup.title.text == \"404 Not Found\":\n",
    "            proceed = False\n",
    "    else:\n",
    "        all_books = soup.find_all(\"li\", class_=\"col-xs-6 col-sm-4 col-md-3 col-lg-3\")\n",
    "        \n",
    "        for book in all_books:\n",
    "            item = {}\n",
    "            \n",
    "            item['Title'] = book.find(\"img\").attrs[\"alt\"]\n",
    "            \n",
    "            item['Link'] = book.find(\"a\").attrs[\"href\"]\n",
    "            \n",
    "            item['Price'] = book.find(\"p\", class_ = \"price_color\").text[2:]\n",
    "            \n",
    "            item['Stock'] = book.find(\"p\", class_ = \"instock availability\").text.strip()\n",
    "            \n",
    "            data.append(item)\n",
    "           \n",
    "        \n",
    "    current_page +=1\n",
    "    \n",
    "        "
   ]
  },
  {
   "cell_type": "code",
   "execution_count": 49,
   "id": "92b590e0",
   "metadata": {},
   "outputs": [],
   "source": [
    "df = pd.DataFrame(data)"
   ]
  },
  {
   "cell_type": "code",
   "execution_count": 50,
   "id": "10a7ddb3",
   "metadata": {},
   "outputs": [],
   "source": [
    "df.to_excel(\"books.xlsx\")"
   ]
  },
  {
   "cell_type": "code",
   "execution_count": null,
   "id": "cef45fca",
   "metadata": {},
   "outputs": [],
   "source": []
  }
 ],
 "metadata": {
  "kernelspec": {
   "display_name": "Python 3 (ipykernel)",
   "language": "python",
   "name": "python3"
  },
  "language_info": {
   "codemirror_mode": {
    "name": "ipython",
    "version": 3
   },
   "file_extension": ".py",
   "mimetype": "text/x-python",
   "name": "python",
   "nbconvert_exporter": "python",
   "pygments_lexer": "ipython3",
   "version": "3.9.7"
  }
 },
 "nbformat": 4,
 "nbformat_minor": 5
}
